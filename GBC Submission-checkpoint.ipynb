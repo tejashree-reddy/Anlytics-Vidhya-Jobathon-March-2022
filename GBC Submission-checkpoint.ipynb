{
 "cells": [
  {
   "cell_type": "code",
   "execution_count": 1,
   "id": "245a421d",
   "metadata": {},
   "outputs": [],
   "source": [
    "#importing the libraries\n",
    "import numpy as np\n",
    "import pandas as pd\n",
    "import seaborn as sns\n",
    "from sklearn.model_selection import train_test_split\n",
    "from sklearn.ensemble import GradientBoostingClassifier\n",
    "from sklearn.metrics import f1_score"
   ]
  },
  {
   "cell_type": "code",
   "execution_count": 2,
   "id": "5ae2aa3f",
   "metadata": {},
   "outputs": [],
   "source": [
    "#Reading the Data Sets\n",
    "train = pd.read_csv(\"train_PDjVQMB.csv\")\n",
    "test = pd.read_csv(\"test_lTY72QC.csv\")"
   ]
  },
  {
   "cell_type": "code",
   "execution_count": 3,
   "id": "93857c62",
   "metadata": {},
   "outputs": [
    {
     "data": {
      "text/plain": [
       "((6650, 11), (2851, 10))"
      ]
     },
     "execution_count": 3,
     "metadata": {},
     "output_type": "execute_result"
    }
   ],
   "source": [
    "#Exploratory Data Analysis\n",
    "#Checking the shape of the data sets\n",
    "train.shape, test.shape"
   ]
  },
  {
   "cell_type": "code",
   "execution_count": 4,
   "id": "c76261a4",
   "metadata": {},
   "outputs": [
    {
     "name": "stdout",
     "output_type": "stream",
     "text": [
      "<class 'pandas.core.frame.DataFrame'>\n",
      "RangeIndex: 6650 entries, 0 to 6649\n",
      "Data columns (total 11 columns):\n",
      " #   Column              Non-Null Count  Dtype  \n",
      "---  ------              --------------  -----  \n",
      " 0   ID                  6650 non-null   object \n",
      " 1   Age                 6650 non-null   int64  \n",
      " 2   Gender              6650 non-null   object \n",
      " 3   Income              6650 non-null   object \n",
      " 4   Balance             6650 non-null   float64\n",
      " 5   Vintage             6650 non-null   int64  \n",
      " 6   Transaction_Status  6650 non-null   int64  \n",
      " 7   Product_Holdings    6650 non-null   object \n",
      " 8   Credit_Card         6650 non-null   int64  \n",
      " 9   Credit_Category     6650 non-null   object \n",
      " 10  Is_Churn            6650 non-null   int64  \n",
      "dtypes: float64(1), int64(5), object(5)\n",
      "memory usage: 571.6+ KB\n"
     ]
    },
    {
     "data": {
      "text/plain": [
       "Index(['ID', 'Age', 'Gender', 'Income', 'Balance', 'Vintage',\n",
       "       'Transaction_Status', 'Product_Holdings', 'Credit_Card',\n",
       "       'Credit_Category', 'Is_Churn'],\n",
       "      dtype='object')"
      ]
     },
     "execution_count": 4,
     "metadata": {},
     "output_type": "execute_result"
    }
   ],
   "source": [
    "train.info()\n",
    "train.columns"
   ]
  },
  {
   "cell_type": "code",
   "execution_count": 5,
   "id": "3a37cb84",
   "metadata": {},
   "outputs": [
    {
     "name": "stdout",
     "output_type": "stream",
     "text": [
      "<class 'pandas.core.frame.DataFrame'>\n",
      "RangeIndex: 2851 entries, 0 to 2850\n",
      "Data columns (total 10 columns):\n",
      " #   Column              Non-Null Count  Dtype  \n",
      "---  ------              --------------  -----  \n",
      " 0   ID                  2851 non-null   object \n",
      " 1   Age                 2851 non-null   int64  \n",
      " 2   Gender              2851 non-null   object \n",
      " 3   Income              2851 non-null   object \n",
      " 4   Balance             2851 non-null   float64\n",
      " 5   Vintage             2851 non-null   int64  \n",
      " 6   Transaction_Status  2851 non-null   int64  \n",
      " 7   Product_Holdings    2851 non-null   object \n",
      " 8   Credit_Card         2851 non-null   int64  \n",
      " 9   Credit_Category     2851 non-null   object \n",
      "dtypes: float64(1), int64(4), object(5)\n",
      "memory usage: 222.9+ KB\n"
     ]
    }
   ],
   "source": [
    "test.info()"
   ]
  },
  {
   "cell_type": "code",
   "execution_count": 6,
   "id": "a60532f6",
   "metadata": {},
   "outputs": [
    {
     "data": {
      "text/plain": [
       "ID                    0\n",
       "Age                   0\n",
       "Gender                0\n",
       "Income                0\n",
       "Balance               0\n",
       "Vintage               0\n",
       "Transaction_Status    0\n",
       "Product_Holdings      0\n",
       "Credit_Card           0\n",
       "Credit_Category       0\n",
       "Is_Churn              0\n",
       "dtype: int64"
      ]
     },
     "execution_count": 6,
     "metadata": {},
     "output_type": "execute_result"
    }
   ],
   "source": [
    "#checking if there are any null values\n",
    "train.isna().sum()"
   ]
  },
  {
   "cell_type": "code",
   "execution_count": 7,
   "id": "3520dd61",
   "metadata": {},
   "outputs": [
    {
     "data": {
      "text/plain": [
       "ID                    0\n",
       "Age                   0\n",
       "Gender                0\n",
       "Income                0\n",
       "Balance               0\n",
       "Vintage               0\n",
       "Transaction_Status    0\n",
       "Product_Holdings      0\n",
       "Credit_Card           0\n",
       "Credit_Category       0\n",
       "dtype: int64"
      ]
     },
     "execution_count": 7,
     "metadata": {},
     "output_type": "execute_result"
    }
   ],
   "source": [
    "test.isna().sum()"
   ]
  },
  {
   "cell_type": "code",
   "execution_count": 8,
   "id": "146d6617",
   "metadata": {},
   "outputs": [
    {
     "data": {
      "text/plain": [
       "ID                    6650\n",
       "Age                     52\n",
       "Gender                   2\n",
       "Income                   4\n",
       "Balance               6643\n",
       "Vintage                  6\n",
       "Transaction_Status       2\n",
       "Product_Holdings         3\n",
       "Credit_Card              2\n",
       "Credit_Category          3\n",
       "Is_Churn                 2\n",
       "dtype: int64"
      ]
     },
     "execution_count": 8,
     "metadata": {},
     "output_type": "execute_result"
    }
   ],
   "source": [
    "#Checkingcfor the unique data \n",
    "train.nunique()"
   ]
  },
  {
   "cell_type": "code",
   "execution_count": 9,
   "id": "daa13017",
   "metadata": {},
   "outputs": [
    {
     "data": {
      "text/html": [
       "<div>\n",
       "<style scoped>\n",
       "    .dataframe tbody tr th:only-of-type {\n",
       "        vertical-align: middle;\n",
       "    }\n",
       "\n",
       "    .dataframe tbody tr th {\n",
       "        vertical-align: top;\n",
       "    }\n",
       "\n",
       "    .dataframe thead th {\n",
       "        text-align: right;\n",
       "    }\n",
       "</style>\n",
       "<table border=\"1\" class=\"dataframe\">\n",
       "  <thead>\n",
       "    <tr style=\"text-align: right;\">\n",
       "      <th></th>\n",
       "      <th>Gender</th>\n",
       "      <th>Income</th>\n",
       "      <th>Vintage</th>\n",
       "      <th>Transaction_Status</th>\n",
       "      <th>Product_Holdings</th>\n",
       "      <th>Credit_Card</th>\n",
       "      <th>Credit_Category</th>\n",
       "      <th>Is_Churn</th>\n",
       "    </tr>\n",
       "  </thead>\n",
       "  <tbody>\n",
       "    <tr>\n",
       "      <th>0</th>\n",
       "      <td>Female</td>\n",
       "      <td>5L - 10L</td>\n",
       "      <td>4</td>\n",
       "      <td>0</td>\n",
       "      <td>1</td>\n",
       "      <td>0</td>\n",
       "      <td>Average</td>\n",
       "      <td>1</td>\n",
       "    </tr>\n",
       "    <tr>\n",
       "      <th>1</th>\n",
       "      <td>Female</td>\n",
       "      <td>Less than 5L</td>\n",
       "      <td>2</td>\n",
       "      <td>1</td>\n",
       "      <td>1</td>\n",
       "      <td>1</td>\n",
       "      <td>Poor</td>\n",
       "      <td>0</td>\n",
       "    </tr>\n",
       "    <tr>\n",
       "      <th>2</th>\n",
       "      <td>Female</td>\n",
       "      <td>More than 15L</td>\n",
       "      <td>2</td>\n",
       "      <td>1</td>\n",
       "      <td>2</td>\n",
       "      <td>0</td>\n",
       "      <td>Poor</td>\n",
       "      <td>0</td>\n",
       "    </tr>\n",
       "    <tr>\n",
       "      <th>3</th>\n",
       "      <td>Female</td>\n",
       "      <td>More than 15L</td>\n",
       "      <td>0</td>\n",
       "      <td>1</td>\n",
       "      <td>2</td>\n",
       "      <td>1</td>\n",
       "      <td>Poor</td>\n",
       "      <td>1</td>\n",
       "    </tr>\n",
       "    <tr>\n",
       "      <th>4</th>\n",
       "      <td>Female</td>\n",
       "      <td>More than 15L</td>\n",
       "      <td>1</td>\n",
       "      <td>1</td>\n",
       "      <td>1</td>\n",
       "      <td>1</td>\n",
       "      <td>Good</td>\n",
       "      <td>1</td>\n",
       "    </tr>\n",
       "    <tr>\n",
       "      <th>...</th>\n",
       "      <td>...</td>\n",
       "      <td>...</td>\n",
       "      <td>...</td>\n",
       "      <td>...</td>\n",
       "      <td>...</td>\n",
       "      <td>...</td>\n",
       "      <td>...</td>\n",
       "      <td>...</td>\n",
       "    </tr>\n",
       "    <tr>\n",
       "      <th>6645</th>\n",
       "      <td>Male</td>\n",
       "      <td>5L - 10L</td>\n",
       "      <td>4</td>\n",
       "      <td>1</td>\n",
       "      <td>2</td>\n",
       "      <td>1</td>\n",
       "      <td>Poor</td>\n",
       "      <td>1</td>\n",
       "    </tr>\n",
       "    <tr>\n",
       "      <th>6646</th>\n",
       "      <td>Female</td>\n",
       "      <td>5L - 10L</td>\n",
       "      <td>3</td>\n",
       "      <td>1</td>\n",
       "      <td>2</td>\n",
       "      <td>1</td>\n",
       "      <td>Average</td>\n",
       "      <td>0</td>\n",
       "    </tr>\n",
       "    <tr>\n",
       "      <th>6647</th>\n",
       "      <td>Male</td>\n",
       "      <td>Less than 5L</td>\n",
       "      <td>2</td>\n",
       "      <td>0</td>\n",
       "      <td>2</td>\n",
       "      <td>0</td>\n",
       "      <td>Poor</td>\n",
       "      <td>0</td>\n",
       "    </tr>\n",
       "    <tr>\n",
       "      <th>6648</th>\n",
       "      <td>Female</td>\n",
       "      <td>10L - 15L</td>\n",
       "      <td>3</td>\n",
       "      <td>0</td>\n",
       "      <td>2</td>\n",
       "      <td>1</td>\n",
       "      <td>Poor</td>\n",
       "      <td>1</td>\n",
       "    </tr>\n",
       "    <tr>\n",
       "      <th>6649</th>\n",
       "      <td>Male</td>\n",
       "      <td>More than 15L</td>\n",
       "      <td>1</td>\n",
       "      <td>1</td>\n",
       "      <td>2</td>\n",
       "      <td>0</td>\n",
       "      <td>Good</td>\n",
       "      <td>0</td>\n",
       "    </tr>\n",
       "  </tbody>\n",
       "</table>\n",
       "<p>6650 rows × 8 columns</p>\n",
       "</div>"
      ],
      "text/plain": [
       "      Gender         Income  Vintage  Transaction_Status Product_Holdings  \\\n",
       "0     Female       5L - 10L        4                   0                1   \n",
       "1     Female   Less than 5L        2                   1                1   \n",
       "2     Female  More than 15L        2                   1                2   \n",
       "3     Female  More than 15L        0                   1                2   \n",
       "4     Female  More than 15L        1                   1                1   \n",
       "...      ...            ...      ...                 ...              ...   \n",
       "6645    Male       5L - 10L        4                   1                2   \n",
       "6646  Female       5L - 10L        3                   1                2   \n",
       "6647    Male   Less than 5L        2                   0                2   \n",
       "6648  Female      10L - 15L        3                   0                2   \n",
       "6649    Male  More than 15L        1                   1                2   \n",
       "\n",
       "      Credit_Card Credit_Category  Is_Churn  \n",
       "0               0         Average         1  \n",
       "1               1            Poor         0  \n",
       "2               0            Poor         0  \n",
       "3               1            Poor         1  \n",
       "4               1            Good         1  \n",
       "...           ...             ...       ...  \n",
       "6645            1            Poor         1  \n",
       "6646            1         Average         0  \n",
       "6647            0            Poor         0  \n",
       "6648            1            Poor         1  \n",
       "6649            0            Good         0  \n",
       "\n",
       "[6650 rows x 8 columns]"
      ]
     },
     "execution_count": 9,
     "metadata": {},
     "output_type": "execute_result"
    }
   ],
   "source": [
    "#Getting columns with Catagorical Data\n",
    "data_without_ID_Age_Balance = train[[\"Gender\",\"Income\",\"Vintage\",\"Transaction_Status\",\"Product_Holdings\",'Credit_Card',\n",
    "       'Credit_Category','Is_Churn']]\n",
    "data_without_ID_Age_Balance"
   ]
  },
  {
   "cell_type": "code",
   "execution_count": 10,
   "id": "0d5d7dea",
   "metadata": {},
   "outputs": [
    {
     "name": "stdout",
     "output_type": "stream",
     "text": [
      "Gender : ['Female', 'Male']\n",
      "Income : ['5L - 10L', 'Less than 5L', 'More than 15L', '10L - 15L']\n",
      "Vintage : [4, 2, 0, 1, 3, 5]\n",
      "Transaction_Status : [0, 1]\n",
      "Product_Holdings : ['1', '2', '3+']\n",
      "Credit_Card : [0, 1]\n",
      "Credit_Category : ['Average', 'Poor', 'Good']\n",
      "Is_Churn : [1, 0]\n"
     ]
    }
   ],
   "source": [
    "#finding unique values in each column\n",
    "for column,vals in data_without_ID_Age_Balance.items():\n",
    "    print(\"{} : {}\".format(column,list(vals.unique())))"
   ]
  },
  {
   "cell_type": "code",
   "execution_count": 11,
   "id": "55f1b0b5",
   "metadata": {},
   "outputs": [
    {
     "data": {
      "text/plain": [
       "0    0.768872\n",
       "1    0.231128\n",
       "Name: Is_Churn, dtype: float64"
      ]
     },
     "execution_count": 11,
     "metadata": {},
     "output_type": "execute_result"
    }
   ],
   "source": [
    "train[\"Is_Churn\"].value_counts(normalize=True)"
   ]
  },
  {
   "cell_type": "code",
   "execution_count": 12,
   "id": "a8c8c6ad",
   "metadata": {},
   "outputs": [
    {
     "name": "stdout",
     "output_type": "stream",
     "text": [
      "          ID\n",
      "Gender      \n",
      "Female  3038\n",
      "Male    3612\n",
      "                 Is_Churn\n",
      "Gender Is_Churn          \n",
      "Female 0             2261\n",
      "       1              777\n",
      "Male   0             2852\n",
      "       1              760\n"
     ]
    }
   ],
   "source": [
    "#Analyis Gender wrt churn count\n",
    "print(pd.DataFrame(train.groupby([\"Gender\"])[\"ID\"].count()))\n",
    "print(pd.DataFrame(train.groupby([\"Gender\",\"Is_Churn\"])[\"Is_Churn\"].count()))"
   ]
  },
  {
   "cell_type": "code",
   "execution_count": 13,
   "id": "0c1860a7",
   "metadata": {},
   "outputs": [
    {
     "data": {
      "text/html": [
       "<div>\n",
       "<style scoped>\n",
       "    .dataframe tbody tr th:only-of-type {\n",
       "        vertical-align: middle;\n",
       "    }\n",
       "\n",
       "    .dataframe tbody tr th {\n",
       "        vertical-align: top;\n",
       "    }\n",
       "\n",
       "    .dataframe thead th {\n",
       "        text-align: right;\n",
       "    }\n",
       "</style>\n",
       "<table border=\"1\" class=\"dataframe\">\n",
       "  <thead>\n",
       "    <tr style=\"text-align: right;\">\n",
       "      <th></th>\n",
       "      <th>Is_Churn</th>\n",
       "    </tr>\n",
       "    <tr>\n",
       "      <th>Gender</th>\n",
       "      <th></th>\n",
       "    </tr>\n",
       "  </thead>\n",
       "  <tbody>\n",
       "    <tr>\n",
       "      <th>Female</th>\n",
       "      <td>0.25576</td>\n",
       "    </tr>\n",
       "    <tr>\n",
       "      <th>Male</th>\n",
       "      <td>0.21041</td>\n",
       "    </tr>\n",
       "  </tbody>\n",
       "</table>\n",
       "</div>"
      ],
      "text/plain": [
       "        Is_Churn\n",
       "Gender          \n",
       "Female   0.25576\n",
       "Male     0.21041"
      ]
     },
     "execution_count": 13,
     "metadata": {},
     "output_type": "execute_result"
    }
   ],
   "source": [
    "train[['Gender','Is_Churn']].groupby(['Gender']).mean()\n"
   ]
  },
  {
   "cell_type": "code",
   "execution_count": 14,
   "id": "5f2b5f10",
   "metadata": {},
   "outputs": [
    {
     "data": {
      "text/plain": [
       "<AxesSubplot:xlabel='Is_Churn', ylabel='count'>"
      ]
     },
     "execution_count": 14,
     "metadata": {},
     "output_type": "execute_result"
    },
    {
     "data": {
      "image/png": "[encoded data removed]",
      "text/plain": [
       "<Figure size 432x288 with 1 Axes>"
      ]
     },
     "metadata": {
      "needs_background": "light"
     },
     "output_type": "display_data"
    }
   ],
   "source": [
    "sns.countplot(x='Is_Churn',data=train,hue='Gender')"
   ]
  },
  {
   "cell_type": "code",
   "execution_count": 15,
   "id": "d364f987",
   "metadata": {},
   "outputs": [],
   "source": [
    "#It is observed that the ratio if Males in the data set is higher that the females\n",
    "#The churn rate difference wrt gender is not very high"
   ]
  },
  {
   "cell_type": "code",
   "execution_count": 16,
   "id": "fd6bb4e3",
   "metadata": {},
   "outputs": [
    {
     "name": "stdout",
     "output_type": "stream",
     "text": [
      "                 ID\n",
      "Income             \n",
      "10L - 15L      1885\n",
      "5L - 10L       1847\n",
      "Less than 5L   1573\n",
      "More than 15L  1345\n",
      "                        Is_Churn\n",
      "Income        Is_Churn          \n",
      "10L - 15L     0             1441\n",
      "              1              444\n",
      "5L - 10L      0             1435\n",
      "              1              412\n",
      "Less than 5L  0             1219\n",
      "              1              354\n",
      "More than 15L 0             1018\n",
      "              1              327\n"
     ]
    }
   ],
   "source": [
    "#Analysis of Churn wrt Income\n",
    "print(pd.DataFrame(train.groupby([\"Income\"])[\"ID\"].count()))\n",
    "print(pd.DataFrame(train.groupby([\"Income\",\"Is_Churn\"])[\"Is_Churn\"].count()))\n"
   ]
  },
  {
   "cell_type": "code",
   "execution_count": 17,
   "id": "48ca1116",
   "metadata": {},
   "outputs": [
    {
     "data": {
      "text/html": [
       "<div>\n",
       "<style scoped>\n",
       "    .dataframe tbody tr th:only-of-type {\n",
       "        vertical-align: middle;\n",
       "    }\n",
       "\n",
       "    .dataframe tbody tr th {\n",
       "        vertical-align: top;\n",
       "    }\n",
       "\n",
       "    .dataframe thead th {\n",
       "        text-align: right;\n",
       "    }\n",
       "</style>\n",
       "<table border=\"1\" class=\"dataframe\">\n",
       "  <thead>\n",
       "    <tr style=\"text-align: right;\">\n",
       "      <th></th>\n",
       "      <th>Is_Churn</th>\n",
       "    </tr>\n",
       "    <tr>\n",
       "      <th>Income</th>\n",
       "      <th></th>\n",
       "    </tr>\n",
       "  </thead>\n",
       "  <tbody>\n",
       "    <tr>\n",
       "      <th>10L - 15L</th>\n",
       "      <td>0.235544</td>\n",
       "    </tr>\n",
       "    <tr>\n",
       "      <th>5L - 10L</th>\n",
       "      <td>0.223064</td>\n",
       "    </tr>\n",
       "    <tr>\n",
       "      <th>Less than 5L</th>\n",
       "      <td>0.225048</td>\n",
       "    </tr>\n",
       "    <tr>\n",
       "      <th>More than 15L</th>\n",
       "      <td>0.243123</td>\n",
       "    </tr>\n",
       "  </tbody>\n",
       "</table>\n",
       "</div>"
      ],
      "text/plain": [
       "               Is_Churn\n",
       "Income                 \n",
       "10L - 15L      0.235544\n",
       "5L - 10L       0.223064\n",
       "Less than 5L   0.225048\n",
       "More than 15L  0.243123"
      ]
     },
     "execution_count": 17,
     "metadata": {},
     "output_type": "execute_result"
    }
   ],
   "source": [
    "train[['Income','Is_Churn']].groupby(['Income']).mean()\n"
   ]
  },
  {
   "cell_type": "code",
   "execution_count": 18,
   "id": "6c42b10e",
   "metadata": {},
   "outputs": [
    {
     "data": {
      "text/plain": [
       "<AxesSubplot:xlabel='Is_Churn', ylabel='count'>"
      ]
     },
     "execution_count": 18,
     "metadata": {},
     "output_type": "execute_result"
    },
    {
     "data": {
      "image/png": "[encoded data removed]",
      "text/plain": [
       "<Figure size 432x288 with 1 Axes>"
      ]
     },
     "metadata": {
      "needs_background": "light"
     },
     "output_type": "display_data"
    }
   ],
   "source": [
    "sns.countplot(x='Is_Churn',data=train,hue='Income')"
   ]
  },
  {
   "cell_type": "code",
   "execution_count": 19,
   "id": "3d00bef7",
   "metadata": {},
   "outputs": [],
   "source": [
    "#The data set is slightly dominanat with customers with income of 10L - 15L  and 5L - 10L\n",
    "#The ratio difference of Churn wrt Income however is almost same across all categories"
   ]
  },
  {
   "cell_type": "code",
   "execution_count": 20,
   "id": "b418ddb0",
   "metadata": {},
   "outputs": [
    {
     "name": "stdout",
     "output_type": "stream",
     "text": [
      "           ID\n",
      "Vintage      \n",
      "0         956\n",
      "1        1354\n",
      "2        1328\n",
      "3        1405\n",
      "4        1296\n",
      "5         311\n",
      "                  Is_Churn\n",
      "Vintage Is_Churn          \n",
      "0       0              755\n",
      "        1              201\n",
      "1       0             1026\n",
      "        1              328\n",
      "2       0             1052\n",
      "        1              276\n",
      "3       0             1066\n",
      "        1              339\n",
      "4       0              975\n",
      "        1              321\n",
      "5       0              239\n",
      "        1               72\n"
     ]
    }
   ],
   "source": [
    "#Analysis of Churn wrt Vintage\n",
    "print(pd.DataFrame(train.groupby([\"Vintage\"])[\"ID\"].count()))\n",
    "print(pd.DataFrame(train.groupby([\"Vintage\",\"Is_Churn\"])[\"Is_Churn\"].count()))\n"
   ]
  },
  {
   "cell_type": "code",
   "execution_count": 21,
   "id": "e7df5b36",
   "metadata": {},
   "outputs": [
    {
     "data": {
      "text/html": [
       "<div>\n",
       "<style scoped>\n",
       "    .dataframe tbody tr th:only-of-type {\n",
       "        vertical-align: middle;\n",
       "    }\n",
       "\n",
       "    .dataframe tbody tr th {\n",
       "        vertical-align: top;\n",
       "    }\n",
       "\n",
       "    .dataframe thead th {\n",
       "        text-align: right;\n",
       "    }\n",
       "</style>\n",
       "<table border=\"1\" class=\"dataframe\">\n",
       "  <thead>\n",
       "    <tr style=\"text-align: right;\">\n",
       "      <th></th>\n",
       "      <th>Is_Churn</th>\n",
       "    </tr>\n",
       "    <tr>\n",
       "      <th>Vintage</th>\n",
       "      <th></th>\n",
       "    </tr>\n",
       "  </thead>\n",
       "  <tbody>\n",
       "    <tr>\n",
       "      <th>0</th>\n",
       "      <td>0.210251</td>\n",
       "    </tr>\n",
       "    <tr>\n",
       "      <th>1</th>\n",
       "      <td>0.242245</td>\n",
       "    </tr>\n",
       "    <tr>\n",
       "      <th>2</th>\n",
       "      <td>0.207831</td>\n",
       "    </tr>\n",
       "    <tr>\n",
       "      <th>3</th>\n",
       "      <td>0.241281</td>\n",
       "    </tr>\n",
       "    <tr>\n",
       "      <th>4</th>\n",
       "      <td>0.247685</td>\n",
       "    </tr>\n",
       "    <tr>\n",
       "      <th>5</th>\n",
       "      <td>0.231511</td>\n",
       "    </tr>\n",
       "  </tbody>\n",
       "</table>\n",
       "</div>"
      ],
      "text/plain": [
       "         Is_Churn\n",
       "Vintage          \n",
       "0        0.210251\n",
       "1        0.242245\n",
       "2        0.207831\n",
       "3        0.241281\n",
       "4        0.247685\n",
       "5        0.231511"
      ]
     },
     "execution_count": 21,
     "metadata": {},
     "output_type": "execute_result"
    }
   ],
   "source": [
    "train[['Vintage','Is_Churn']].groupby(['Vintage']).mean()\n"
   ]
  },
  {
   "cell_type": "code",
   "execution_count": 22,
   "id": "eef70a84",
   "metadata": {},
   "outputs": [
    {
     "data": {
      "text/plain": [
       "<AxesSubplot:xlabel='Is_Churn', ylabel='count'>"
      ]
     },
     "execution_count": 22,
     "metadata": {},
     "output_type": "execute_result"
    },
    {
     "data": {
      "image/png": "[encoded data removed]",
      "text/plain": [
       "<Figure size 432x288 with 1 Axes>"
      ]
     },
     "metadata": {
      "needs_background": "light"
     },
     "output_type": "display_data"
    }
   ],
   "source": [
    "sns.countplot(x='Is_Churn',data=train,hue='Vintage')\n"
   ]
  },
  {
   "cell_type": "code",
   "execution_count": 23,
   "id": "cbcbfd64",
   "metadata": {},
   "outputs": [],
   "source": [
    "#The dataset follows a slight normal distribution wrt to Vintage\n",
    "#There is no significant difference in churn ration wrt vintage"
   ]
  },
  {
   "cell_type": "code",
   "execution_count": 24,
   "id": "0999f675",
   "metadata": {},
   "outputs": [
    {
     "name": "stdout",
     "output_type": "stream",
     "text": [
      "                      ID\n",
      "Transaction_Status      \n",
      "0                   3220\n",
      "1                   3430\n",
      "                             Is_Churn\n",
      "Transaction_Status Is_Churn          \n",
      "0                  0             2354\n",
      "                   1              866\n",
      "1                  0             2759\n",
      "                   1              671\n"
     ]
    }
   ],
   "source": [
    "#Analysis on Transaction Status wrt Churn\n",
    "print(pd.DataFrame(train.groupby([\"Transaction_Status\"])[\"ID\"].count()))\n",
    "print(pd.DataFrame(train.groupby([\"Transaction_Status\",\"Is_Churn\"])[\"Is_Churn\"].count()))\n"
   ]
  },
  {
   "cell_type": "code",
   "execution_count": 25,
   "id": "46110acc",
   "metadata": {},
   "outputs": [
    {
     "data": {
      "text/html": [
       "<div>\n",
       "<style scoped>\n",
       "    .dataframe tbody tr th:only-of-type {\n",
       "        vertical-align: middle;\n",
       "    }\n",
       "\n",
       "    .dataframe tbody tr th {\n",
       "        vertical-align: top;\n",
       "    }\n",
       "\n",
       "    .dataframe thead th {\n",
       "        text-align: right;\n",
       "    }\n",
       "</style>\n",
       "<table border=\"1\" class=\"dataframe\">\n",
       "  <thead>\n",
       "    <tr style=\"text-align: right;\">\n",
       "      <th></th>\n",
       "      <th>Is_Churn</th>\n",
       "    </tr>\n",
       "    <tr>\n",
       "      <th>Transaction_Status</th>\n",
       "      <th></th>\n",
       "    </tr>\n",
       "  </thead>\n",
       "  <tbody>\n",
       "    <tr>\n",
       "      <th>0</th>\n",
       "      <td>0.268944</td>\n",
       "    </tr>\n",
       "    <tr>\n",
       "      <th>1</th>\n",
       "      <td>0.195627</td>\n",
       "    </tr>\n",
       "  </tbody>\n",
       "</table>\n",
       "</div>"
      ],
      "text/plain": [
       "                    Is_Churn\n",
       "Transaction_Status          \n",
       "0                   0.268944\n",
       "1                   0.195627"
      ]
     },
     "execution_count": 25,
     "metadata": {},
     "output_type": "execute_result"
    }
   ],
   "source": [
    "train[['Transaction_Status','Is_Churn']].groupby(['Transaction_Status']).mean()\n"
   ]
  },
  {
   "cell_type": "code",
   "execution_count": 26,
   "id": "da830c25",
   "metadata": {},
   "outputs": [
    {
     "data": {
      "text/plain": [
       "<AxesSubplot:xlabel='Is_Churn', ylabel='count'>"
      ]
     },
     "execution_count": 26,
     "metadata": {},
     "output_type": "execute_result"
    },
    {
     "data": {
      "image/png": "[encoded data removed]",
      "text/plain": [
       "<Figure size 432x288 with 1 Axes>"
      ]
     },
     "metadata": {
      "needs_background": "light"
     },
     "output_type": "display_data"
    }
   ],
   "source": [
    "sns.countplot(x='Is_Churn',data=train,hue='Transaction_Status')\n"
   ]
  },
  {
   "cell_type": "code",
   "execution_count": 27,
   "id": "bd45be49",
   "metadata": {},
   "outputs": [],
   "source": [
    "#It is observed that slightly higher number of customers whose transaction status is zero have churned as compared to those whose transaction status was one \n"
   ]
  },
  {
   "cell_type": "code",
   "execution_count": 28,
   "id": "56892026",
   "metadata": {},
   "outputs": [
    {
     "name": "stdout",
     "output_type": "stream",
     "text": [
      "                    ID\n",
      "Product_Holdings      \n",
      "1                 3200\n",
      "2                 3182\n",
      "3+                 268\n",
      "                           Is_Churn\n",
      "Product_Holdings Is_Churn          \n",
      "1                0             2414\n",
      "                 1              786\n",
      "2                0             2490\n",
      "                 1              692\n",
      "3+               0              209\n",
      "                 1               59\n"
     ]
    }
   ],
   "source": [
    "#Analysis wrt to number of Product Holdings \n",
    "print(pd.DataFrame(train.groupby([\"Product_Holdings\"])[\"ID\"].count()))\n",
    "print(pd.DataFrame(train.groupby([\"Product_Holdings\",\"Is_Churn\"])[\"Is_Churn\"].count()))\n"
   ]
  },
  {
   "cell_type": "code",
   "execution_count": 29,
   "id": "711b46de",
   "metadata": {},
   "outputs": [
    {
     "data": {
      "text/html": [
       "<div>\n",
       "<style scoped>\n",
       "    .dataframe tbody tr th:only-of-type {\n",
       "        vertical-align: middle;\n",
       "    }\n",
       "\n",
       "    .dataframe tbody tr th {\n",
       "        vertical-align: top;\n",
       "    }\n",
       "\n",
       "    .dataframe thead th {\n",
       "        text-align: right;\n",
       "    }\n",
       "</style>\n",
       "<table border=\"1\" class=\"dataframe\">\n",
       "  <thead>\n",
       "    <tr style=\"text-align: right;\">\n",
       "      <th></th>\n",
       "      <th>Is_Churn</th>\n",
       "    </tr>\n",
       "    <tr>\n",
       "      <th>Product_Holdings</th>\n",
       "      <th></th>\n",
       "    </tr>\n",
       "  </thead>\n",
       "  <tbody>\n",
       "    <tr>\n",
       "      <th>1</th>\n",
       "      <td>0.245625</td>\n",
       "    </tr>\n",
       "    <tr>\n",
       "      <th>2</th>\n",
       "      <td>0.217473</td>\n",
       "    </tr>\n",
       "    <tr>\n",
       "      <th>3+</th>\n",
       "      <td>0.220149</td>\n",
       "    </tr>\n",
       "  </tbody>\n",
       "</table>\n",
       "</div>"
      ],
      "text/plain": [
       "                  Is_Churn\n",
       "Product_Holdings          \n",
       "1                 0.245625\n",
       "2                 0.217473\n",
       "3+                0.220149"
      ]
     },
     "execution_count": 29,
     "metadata": {},
     "output_type": "execute_result"
    }
   ],
   "source": [
    "train[['Product_Holdings','Is_Churn']].groupby(['Product_Holdings']).mean()\n"
   ]
  },
  {
   "cell_type": "code",
   "execution_count": 30,
   "id": "f4a86289",
   "metadata": {},
   "outputs": [
    {
     "data": {
      "text/plain": [
       "<AxesSubplot:xlabel='Is_Churn', ylabel='count'>"
      ]
     },
     "execution_count": 30,
     "metadata": {},
     "output_type": "execute_result"
    },
    {
     "data": {
      "image/png": "[encoded data removed]",
      "text/plain": [
       "<Figure size 432x288 with 1 Axes>"
      ]
     },
     "metadata": {
      "needs_background": "light"
     },
     "output_type": "display_data"
    }
   ],
   "source": [
    "sns.countplot(x='Is_Churn',data=train,hue='Product_Holdings')\n"
   ]
  },
  {
   "cell_type": "code",
   "execution_count": 31,
   "id": "fdbefccf",
   "metadata": {},
   "outputs": [],
   "source": [
    "# The number of customers with more than 3 product holdings is very less as compared to the number of customers who have 1 or 2 product holdings.\n",
    "# The difference churn ratio is not significantly high but more number of customers with only one product holdings have churned more"
   ]
  },
  {
   "cell_type": "code",
   "execution_count": 32,
   "id": "b7364f42",
   "metadata": {},
   "outputs": [
    {
     "name": "stdout",
     "output_type": "stream",
     "text": [
      "               ID\n",
      "Credit_Card      \n",
      "0            2232\n",
      "1            4418\n",
      "                      Is_Churn\n",
      "Credit_Card Is_Churn          \n",
      "0           0             1715\n",
      "            1              517\n",
      "1           0             3398\n",
      "            1             1020\n"
     ]
    }
   ],
   "source": [
    "#Analysis wrt having a Credit Card\n",
    "print(pd.DataFrame(train.groupby([\"Credit_Card\"])[\"ID\"].count()))\n",
    "print(pd.DataFrame(train.groupby([\"Credit_Card\",\"Is_Churn\"])[\"Is_Churn\"].count()))\n"
   ]
  },
  {
   "cell_type": "code",
   "execution_count": 33,
   "id": "618db457",
   "metadata": {},
   "outputs": [
    {
     "data": {
      "text/html": [
       "<div>\n",
       "<style scoped>\n",
       "    .dataframe tbody tr th:only-of-type {\n",
       "        vertical-align: middle;\n",
       "    }\n",
       "\n",
       "    .dataframe tbody tr th {\n",
       "        vertical-align: top;\n",
       "    }\n",
       "\n",
       "    .dataframe thead th {\n",
       "        text-align: right;\n",
       "    }\n",
       "</style>\n",
       "<table border=\"1\" class=\"dataframe\">\n",
       "  <thead>\n",
       "    <tr style=\"text-align: right;\">\n",
       "      <th></th>\n",
       "      <th>Is_Churn</th>\n",
       "    </tr>\n",
       "    <tr>\n",
       "      <th>Credit_Card</th>\n",
       "      <th></th>\n",
       "    </tr>\n",
       "  </thead>\n",
       "  <tbody>\n",
       "    <tr>\n",
       "      <th>0</th>\n",
       "      <td>0.231631</td>\n",
       "    </tr>\n",
       "    <tr>\n",
       "      <th>1</th>\n",
       "      <td>0.230874</td>\n",
       "    </tr>\n",
       "  </tbody>\n",
       "</table>\n",
       "</div>"
      ],
      "text/plain": [
       "             Is_Churn\n",
       "Credit_Card          \n",
       "0            0.231631\n",
       "1            0.230874"
      ]
     },
     "execution_count": 33,
     "metadata": {},
     "output_type": "execute_result"
    }
   ],
   "source": [
    "train[['Credit_Card','Is_Churn']].groupby(['Credit_Card']).mean()\n"
   ]
  },
  {
   "cell_type": "code",
   "execution_count": 34,
   "id": "e1ff703f",
   "metadata": {},
   "outputs": [
    {
     "data": {
      "text/plain": [
       "<AxesSubplot:xlabel='Is_Churn', ylabel='count'>"
      ]
     },
     "execution_count": 34,
     "metadata": {},
     "output_type": "execute_result"
    },
    {
     "data": {
      "image/png": "[encoded data removed]",
      "text/plain": [
       "<Figure size 432x288 with 1 Axes>"
      ]
     },
     "metadata": {
      "needs_background": "light"
     },
     "output_type": "display_data"
    }
   ],
   "source": [
    "sns.countplot(x='Is_Churn',data=train,hue='Credit_Card')\n"
   ]
  },
  {
   "cell_type": "code",
   "execution_count": 35,
   "id": "974ccaec",
   "metadata": {},
   "outputs": [],
   "source": [
    "# Half of the customers do not have a credit card\n",
    "# But the churn rratio is same in between the customers who have credit card and who don't"
   ]
  },
  {
   "cell_type": "code",
   "execution_count": 36,
   "id": "c72fb110",
   "metadata": {},
   "outputs": [
    {
     "name": "stdout",
     "output_type": "stream",
     "text": [
      "                   ID\n",
      "Credit_Category      \n",
      "Average          2043\n",
      "Good             1531\n",
      "Poor             3076\n",
      "                          Is_Churn\n",
      "Credit_Category Is_Churn          \n",
      "Average         0             1572\n",
      "                1              471\n",
      "Good            0             1220\n",
      "                1              311\n",
      "Poor            0             2321\n",
      "                1              755\n"
     ]
    }
   ],
   "source": [
    "# Analysis wrt Credit Category and Churn\n",
    "print(pd.DataFrame(train.groupby([\"Credit_Category\"])[\"ID\"].count()))\n",
    "print(pd.DataFrame(train.groupby([\"Credit_Category\",\"Is_Churn\"])[\"Is_Churn\"].count()))\n"
   ]
  },
  {
   "cell_type": "code",
   "execution_count": 37,
   "id": "87b93be7",
   "metadata": {},
   "outputs": [
    {
     "data": {
      "text/html": [
       "<div>\n",
       "<style scoped>\n",
       "    .dataframe tbody tr th:only-of-type {\n",
       "        vertical-align: middle;\n",
       "    }\n",
       "\n",
       "    .dataframe tbody tr th {\n",
       "        vertical-align: top;\n",
       "    }\n",
       "\n",
       "    .dataframe thead th {\n",
       "        text-align: right;\n",
       "    }\n",
       "</style>\n",
       "<table border=\"1\" class=\"dataframe\">\n",
       "  <thead>\n",
       "    <tr style=\"text-align: right;\">\n",
       "      <th></th>\n",
       "      <th>Is_Churn</th>\n",
       "    </tr>\n",
       "    <tr>\n",
       "      <th>Credit_Category</th>\n",
       "      <th></th>\n",
       "    </tr>\n",
       "  </thead>\n",
       "  <tbody>\n",
       "    <tr>\n",
       "      <th>Average</th>\n",
       "      <td>0.230543</td>\n",
       "    </tr>\n",
       "    <tr>\n",
       "      <th>Good</th>\n",
       "      <td>0.203135</td>\n",
       "    </tr>\n",
       "    <tr>\n",
       "      <th>Poor</th>\n",
       "      <td>0.245449</td>\n",
       "    </tr>\n",
       "  </tbody>\n",
       "</table>\n",
       "</div>"
      ],
      "text/plain": [
       "                 Is_Churn\n",
       "Credit_Category          \n",
       "Average          0.230543\n",
       "Good             0.203135\n",
       "Poor             0.245449"
      ]
     },
     "execution_count": 37,
     "metadata": {},
     "output_type": "execute_result"
    }
   ],
   "source": [
    "train[['Credit_Category','Is_Churn']].groupby(['Credit_Category']).mean()\n"
   ]
  },
  {
   "cell_type": "code",
   "execution_count": 38,
   "id": "0f1db907",
   "metadata": {},
   "outputs": [
    {
     "data": {
      "text/plain": [
       "<AxesSubplot:xlabel='Is_Churn', ylabel='count'>"
      ]
     },
     "execution_count": 38,
     "metadata": {},
     "output_type": "execute_result"
    },
    {
     "data": {
      "image/png": "[encoded data removed]",
      "text/plain": [
       "<Figure size 432x288 with 1 Axes>"
      ]
     },
     "metadata": {
      "needs_background": "light"
     },
     "output_type": "display_data"
    }
   ],
   "source": [
    "sns.countplot(x='Is_Churn',data=train,hue='Credit_Category')"
   ]
  },
  {
   "cell_type": "code",
   "execution_count": 39,
   "id": "b8dc8c5c",
   "metadata": {},
   "outputs": [],
   "source": [
    "#The credit category is poor for most of the customers.The number follows by Average and then Good\n",
    "#The customer churn is high for customers with poor credit category followed by Average and good"
   ]
  },
  {
   "cell_type": "code",
   "execution_count": 40,
   "id": "3bf2c6d9",
   "metadata": {},
   "outputs": [
    {
     "data": {
      "text/plain": [
       "<AxesSubplot:xlabel='Is_Churn', ylabel='count'>"
      ]
     },
     "execution_count": 40,
     "metadata": {},
     "output_type": "execute_result"
    },
    {
     "data": {
      "image/png": "[encoded data removed]",
      "text/plain": [
       "<Figure size 432x288 with 1 Axes>"
      ]
     },
     "metadata": {
      "needs_background": "light"
     },
     "output_type": "display_data"
    }
   ],
   "source": [
    "#Analysis on number of customers churned\n",
    "sns.countplot(x='Is_Churn',data=train)"
   ]
  },
  {
   "cell_type": "code",
   "execution_count": 41,
   "id": "1fa8d0c5",
   "metadata": {},
   "outputs": [],
   "source": [
    "#The number of customers who have churned is very less as compared to those who haven't\n",
    "#It is also observed that there is imbalance in the dataset"
   ]
  },
  {
   "cell_type": "code",
   "execution_count": 42,
   "id": "4bded67e",
   "metadata": {},
   "outputs": [
    {
     "name": "stderr",
     "output_type": "stream",
     "text": [
      "c:\\users\\tejshree reddy\\appdata\\local\\programs\\python\\python39\\lib\\site-packages\\seaborn\\distributions.py:2557: FutureWarning: `distplot` is a deprecated function and will be removed in a future version. Please adapt your code to use either `displot` (a figure-level function with similar flexibility) or `histplot` (an axes-level function for histograms).\n",
      "  warnings.warn(msg, FutureWarning)\n",
      "c:\\users\\tejshree reddy\\appdata\\local\\programs\\python\\python39\\lib\\site-packages\\seaborn\\distributions.py:2557: FutureWarning: `distplot` is a deprecated function and will be removed in a future version. Please adapt your code to use either `displot` (a figure-level function with similar flexibility) or `histplot` (an axes-level function for histograms).\n",
      "  warnings.warn(msg, FutureWarning)\n"
     ]
    },
    {
     "data": {
      "text/plain": [
       "<AxesSubplot:xlabel='Balance', ylabel='Density'>"
      ]
     },
     "execution_count": 42,
     "metadata": {},
     "output_type": "execute_result"
    },
    {
     "data": {
      "image/png": "[encoded data removed]",
      "text/plain": [
       "<Figure size 864x504 with 2 Axes>"
      ]
     },
     "metadata": {
      "needs_background": "light"
     },
     "output_type": "display_data"
    }
   ],
   "source": [
    "#Distribution of continuous columns\n",
    "import matplotlib.pyplot as plt\n",
    "fig, axes = plt.subplots(1,2, figsize=(12, 7))\n",
    "sns.distplot(train[\"Age\"], ax=axes[0])\n",
    "sns.distplot(train[\"Balance\"], ax=axes[1])"
   ]
  },
  {
   "cell_type": "code",
   "execution_count": 43,
   "id": "43fa82df",
   "metadata": {},
   "outputs": [
    {
     "data": {
      "text/html": [
       "<div>\n",
       "<style scoped>\n",
       "    .dataframe tbody tr th:only-of-type {\n",
       "        vertical-align: middle;\n",
       "    }\n",
       "\n",
       "    .dataframe tbody tr th {\n",
       "        vertical-align: top;\n",
       "    }\n",
       "\n",
       "    .dataframe thead th {\n",
       "        text-align: right;\n",
       "    }\n",
       "</style>\n",
       "<table border=\"1\" class=\"dataframe\">\n",
       "  <thead>\n",
       "    <tr style=\"text-align: right;\">\n",
       "      <th></th>\n",
       "      <th>Age</th>\n",
       "      <th>Balance</th>\n",
       "    </tr>\n",
       "    <tr>\n",
       "      <th>Is_Churn</th>\n",
       "      <th></th>\n",
       "      <th></th>\n",
       "    </tr>\n",
       "  </thead>\n",
       "  <tbody>\n",
       "    <tr>\n",
       "      <th>0</th>\n",
       "      <td>40.045375</td>\n",
       "      <td>788653.739642</td>\n",
       "    </tr>\n",
       "    <tr>\n",
       "      <th>1</th>\n",
       "      <td>44.739102</td>\n",
       "      <td>857626.896461</td>\n",
       "    </tr>\n",
       "  </tbody>\n",
       "</table>\n",
       "</div>"
      ],
      "text/plain": [
       "                Age        Balance\n",
       "Is_Churn                          \n",
       "0         40.045375  788653.739642\n",
       "1         44.739102  857626.896461"
      ]
     },
     "execution_count": 43,
     "metadata": {},
     "output_type": "execute_result"
    }
   ],
   "source": [
    "train[[\"Age\",\"Balance\",\"Is_Churn\"]].groupby([\"Is_Churn\"]).mean()"
   ]
  },
  {
   "cell_type": "code",
   "execution_count": 44,
   "id": "ad1bc01f",
   "metadata": {},
   "outputs": [],
   "source": [
    "# Tve average age of the customers who churned is 44\n",
    "#These two columns are very significant in building the model"
   ]
  },
  {
   "cell_type": "code",
   "execution_count": 45,
   "id": "2f2edb2d",
   "metadata": {},
   "outputs": [],
   "source": [
    "# Preprocessing\n",
    "# For tree based models, label encoding for categorical variables\n",
    "\n",
    "gender_mapper = {\"Female\":0, \"Male\":1}\n",
    "income_mapper = {\"Less than 5L\":0,\"5L - 10L\":1, \"10L - 15L\":2,\"More than 15L\":3}\n",
    "product_holdings_mapper = {\"1\":0,\"2\":1, \"3+\":2}\n",
    "credit_category_mapper = {\"Poor\":0,\"Average\":1, \"Good\":2}\n",
    "\n",
    "train[\"Gender\"] = train[\"Gender\"].map(gender_mapper)\n",
    "test[\"Gender\"] = test[\"Gender\"].map(gender_mapper)\n",
    "\n",
    "train[\"Income\"] = train[\"Income\"].map(income_mapper)\n",
    "test[\"Income\"] = test[\"Income\"].map(income_mapper)\n",
    "\n",
    "train[\"Product_Holdings\"] = train[\"Product_Holdings\"].map(product_holdings_mapper)\n",
    "test[\"Product_Holdings\"] = test[\"Product_Holdings\"].map(product_holdings_mapper)\n",
    "\n",
    "train[\"Credit_Category\"] = train[\"Credit_Category\"].map(credit_category_mapper)\n",
    "test[\"Credit_Category\"] = test[\"Credit_Category\"].map(credit_category_mapper)"
   ]
  },
  {
   "cell_type": "code",
   "execution_count": 46,
   "id": "bd9f43e7",
   "metadata": {},
   "outputs": [],
   "source": [
    "#Splitting the data set\n",
    "#Since the data is imbalanced, we use stratiyf with respect to Is_Churn\n",
    "X_build, X_val, y_build, y_val = train_test_split(train, train[\"Is_Churn\"], test_size=0.25, random_state=2022, stratify=train[\"Is_Churn\"])"
   ]
  },
  {
   "cell_type": "code",
   "execution_count": 47,
   "id": "3d5c3365",
   "metadata": {},
   "outputs": [],
   "source": [
    "#Splitting the training data to build and validate the model\n",
    "build_ids = X_build[\"ID\"].values\n",
    "val_ids = X_val[\"ID\"].values\n",
    "test_ids = test[\"ID\"].values\n",
    "\n",
    "X_build = X_build.drop([\"ID\", \"Is_Churn\"], axis=1)\n",
    "X_val = X_val.drop([\"ID\", \"Is_Churn\"], axis=1)\n",
    "X_test = test.drop([\"ID\"], axis=1)"
   ]
  },
  {
   "cell_type": "code",
   "execution_count": 48,
   "id": "528544a2",
   "metadata": {},
   "outputs": [
    {
     "data": {
      "text/plain": [
       "((4987, 9), (1663, 9), (2851, 9))"
      ]
     },
     "execution_count": 48,
     "metadata": {},
     "output_type": "execute_result"
    }
   ],
   "source": [
    "X_build.shape, X_val.shape, X_test.shape"
   ]
  },
  {
   "cell_type": "code",
   "execution_count": 49,
   "id": "cfec0da5",
   "metadata": {},
   "outputs": [],
   "source": [
    "clf = GradientBoostingClassifier(n_estimators=40)"
   ]
  },
  {
   "cell_type": "code",
   "execution_count": 50,
   "id": "60560c57",
   "metadata": {},
   "outputs": [
    {
     "data": {
      "text/plain": [
       "GradientBoostingClassifier(n_estimators=40)"
      ]
     },
     "execution_count": 50,
     "metadata": {},
     "output_type": "execute_result"
    }
   ],
   "source": [
    "clf.fit(X_build, y_build)"
   ]
  },
  {
   "cell_type": "code",
   "execution_count": 51,
   "id": "6fe704f3",
   "metadata": {},
   "outputs": [],
   "source": [
    "#Getting Probality values \n",
    "val_probs = clf.predict_proba(X_val)[:, 1]\n",
    "test_probs = clf.predict_proba(X_test)[:, 1]"
   ]
  },
  {
   "cell_type": "code",
   "execution_count": 52,
   "id": "5aafb253",
   "metadata": {},
   "outputs": [
    {
     "data": {
      "text/plain": [
       "0.5808183946545449"
      ]
     },
     "execution_count": 52,
     "metadata": {},
     "output_type": "execute_result"
    }
   ],
   "source": [
    "#Setting a threshold to convert the probabilities\n",
    "thresh = 0.3\n",
    "val_preds = np.where(val_probs > thresh, 1, 0)\n",
    "cv_score = f1_score(y_val, val_preds, average=\"macro\")\n",
    "cv_score"
   ]
  },
  {
   "cell_type": "code",
   "execution_count": 53,
   "id": "4388ae4f",
   "metadata": {},
   "outputs": [],
   "source": [
    "\n",
    "test_preds = np.where(test_probs > thresh, 1, 0)"
   ]
  },
  {
   "cell_type": "code",
   "execution_count": 54,
   "id": "4655b2a8",
   "metadata": {},
   "outputs": [],
   "source": [
    "#Adding ID and the predicted output to the submission file\n",
    "submission = pd.DataFrame({\"ID\": test_ids, \"Is_Churn\": test_preds})"
   ]
  },
  {
   "cell_type": "code",
   "execution_count": 55,
   "id": "7c70dba8",
   "metadata": {},
   "outputs": [
    {
     "data": {
      "text/html": [
       "<div>\n",
       "<style scoped>\n",
       "    .dataframe tbody tr th:only-of-type {\n",
       "        vertical-align: middle;\n",
       "    }\n",
       "\n",
       "    .dataframe tbody tr th {\n",
       "        vertical-align: top;\n",
       "    }\n",
       "\n",
       "    .dataframe thead th {\n",
       "        text-align: right;\n",
       "    }\n",
       "</style>\n",
       "<table border=\"1\" class=\"dataframe\">\n",
       "  <thead>\n",
       "    <tr style=\"text-align: right;\">\n",
       "      <th></th>\n",
       "      <th>ID</th>\n",
       "      <th>Is_Churn</th>\n",
       "    </tr>\n",
       "  </thead>\n",
       "  <tbody>\n",
       "    <tr>\n",
       "      <th>0</th>\n",
       "      <td>55480787</td>\n",
       "      <td>1</td>\n",
       "    </tr>\n",
       "    <tr>\n",
       "      <th>1</th>\n",
       "      <td>9aededf2</td>\n",
       "      <td>0</td>\n",
       "    </tr>\n",
       "    <tr>\n",
       "      <th>2</th>\n",
       "      <td>a5034a09</td>\n",
       "      <td>0</td>\n",
       "    </tr>\n",
       "    <tr>\n",
       "      <th>3</th>\n",
       "      <td>b3256702</td>\n",
       "      <td>0</td>\n",
       "    </tr>\n",
       "    <tr>\n",
       "      <th>4</th>\n",
       "      <td>dc28adb5</td>\n",
       "      <td>0</td>\n",
       "    </tr>\n",
       "  </tbody>\n",
       "</table>\n",
       "</div>"
      ],
      "text/plain": [
       "         ID  Is_Churn\n",
       "0  55480787         1\n",
       "1  9aededf2         0\n",
       "2  a5034a09         0\n",
       "3  b3256702         0\n",
       "4  dc28adb5         0"
      ]
     },
     "execution_count": 55,
     "metadata": {},
     "output_type": "execute_result"
    }
   ],
   "source": [
    "submission.head()"
   ]
  },
  {
   "cell_type": "code",
   "execution_count": 56,
   "id": "046f1d3e",
   "metadata": {},
   "outputs": [
    {
     "data": {
      "text/plain": [
       "0    0.785338\n",
       "1    0.214662\n",
       "Name: Is_Churn, dtype: float64"
      ]
     },
     "execution_count": 56,
     "metadata": {},
     "output_type": "execute_result"
    }
   ],
   "source": [
    "submission[\"Is_Churn\"].value_counts(normalize=True)"
   ]
  },
  {
   "cell_type": "code",
   "execution_count": 57,
   "id": "4bc5ee45",
   "metadata": {},
   "outputs": [],
   "source": [
    "submission.to_csv(f\"submit_RFC_{cv_score:.2f}.csv\", index=False)"
   ]
  },
  {
   "cell_type": "code",
   "execution_count": null,
   "id": "f98b8bd2",
   "metadata": {},
   "outputs": [],
   "source": []
  }
 ],
 "metadata": {
  "kernelspec": {
   "display_name": "Python 3",
   "language": "python",
   "name": "python3"
  },
  "language_info": {
   "codemirror_mode": {
    "name": "ipython",
    "version": 3
   },
   "file_extension": ".py",
   "mimetype": "text/x-python",
   "name": "python",
   "nbconvert_exporter": "python",
   "pygments_lexer": "ipython3",
   "version": "3.9.5"
  }
 },
 "nbformat": 4,
 "nbformat_minor": 5
}
